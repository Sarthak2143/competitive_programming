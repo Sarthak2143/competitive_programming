{
 "cells": [
  {
   "cell_type": "markdown",
   "metadata": {},
   "source": [
    "# Codewars"
   ]
  },
  {
   "cell_type": "markdown",
   "metadata": {},
   "source": [
    "Here I will add my solutions to codewars problem with some optional logic/math."
   ]
  },
  {
   "cell_type": "markdown",
   "metadata": {},
   "source": [
    "#### Disemvowel Trolls (7 kyu)\n",
    "Trolls are attacking your comment section!\n",
    "\n",
    "A common way to deal with this situation is to remove all of the vowels from the trolls' comments, neutralizing the threat.\n",
    "\n",
    "Your task is to write a function that takes a string and return a new string with all vowels removed.\n",
    "\n",
    "For example, the string \"This website is for losers LOL!\" would become \"Ths wbst s fr lsrs LL!\".\n",
    "\n",
    "Note: for this kata `y` isn't considered a vowel.\n",
    "\n",
    "Link: https://www.codewars.com/kata/52fba66badcd10859f00097e"
   ]
  },
  {
   "cell_type": "code",
   "execution_count": 1,
   "metadata": {},
   "outputs": [
    {
     "name": "stdout",
     "output_type": "stream",
     "text": [
      "N ffns bt,\n",
      "Yr wrtng s mng th wrst 'v vr rd\n"
     ]
    }
   ],
   "source": [
    "def disemvowel(string_):\n",
    "    vowels = [\"a\", \"e\", \"i\", \"o\", \"u\", \"A\", \"E\", \"I\", \"O\", \"U\"]\n",
    "    new_string = \"\"\n",
    "    for letter_num in range(len(string_)):\n",
    "        if string_[letter_num] not in vowels:\n",
    "            new_string += string_[letter_num]\n",
    "    return new_string\n",
    "\n",
    "print(disemvowel(\"No offense but,\\nYour writing is among the worst I've ever read\"))"
   ]
  },
  {
   "cell_type": "markdown",
   "metadata": {},
   "source": [
    "---"
   ]
  },
  {
   "cell_type": "markdown",
   "metadata": {},
   "source": [
    "#### Factorial length (6 kyu)\n",
    "\n",
    "In this Kata, you will implement a function `count` that takes an integer and returns the number of digits in `factorial(n)`.\n",
    "\n",
    "For example, `count(5) = 3`, because `5! = 120`, and `120` has `3` digits.\n",
    "\n",
    "More examples in the test cases.\n",
    "\n",
    "Brute force is not possible. A little research will go a long way, as this is a well known series.\n",
    "\n",
    "Good luck!\n",
    "\n",
    "Link: https://www.codewars.com/kata/59f34ec5a01431ab7600005a"
   ]
  },
  {
   "cell_type": "code",
   "execution_count": 3,
   "metadata": {},
   "outputs": [
    {
     "name": "stdout",
     "output_type": "stream",
     "text": [
      "363233781\n"
     ]
    }
   ],
   "source": [
    "import math\n",
    "\n",
    "def count(n):\n",
    "    # source: https://oeis.org/A034886\n",
    "    return math.ceil(math.log10(2*math.pi*n)/2 + n*(math.log10(n/math.e)))\n",
    "\n",
    "print(count(50_000_000))"
   ]
  },
  {
   "cell_type": "markdown",
   "metadata": {},
   "source": [
    "---"
   ]
  },
  {
   "cell_type": "markdown",
   "metadata": {},
   "source": [
    "#### Jaden Case Strings\n",
    "\n",
    "Jaden Smith, the son of Will Smith, is the star of films such as The Karate Kid (2010) and After Earth (2013). Jaden is also known for some of his philosophy that he delivers via Twitter. When writing on Twitter, he is known for almost always capitalizing every word. For simplicity, you'll have to capitalize each word, check out how contractions are expected to be in the example below.\n",
    "\n",
    "Your task is to convert strings to how they would be written by Jaden Smith. The strings are actual quotes from Jaden Smith, but they are not capitalized in the same way he originally typed them.\n",
    "\n",
    "```md\n",
    "Not Jaden-Cased: \"How can mirrors be real if our eyes aren't real\"\n",
    "Jaden-Cased:     \"How Can Mirrors Be Real If Our Eyes Aren't Real\n",
    "```\n",
    "\n",
    "Link: https://www.codewars.com/kata/5390bac347d09b7da40006f6"
   ]
  },
  {
   "cell_type": "code",
   "execution_count": 16,
   "metadata": {},
   "outputs": [
    {
     "data": {
      "text/plain": [
       "\"How Can Mirrors Be Real If Our Eyes Aren't Real\""
      ]
     },
     "execution_count": 16,
     "metadata": {},
     "output_type": "execute_result"
    }
   ],
   "source": [
    "def to_jaden_case(string):\n",
    "    data = string.split(\" \")\n",
    "    new_data = []\n",
    "    for d in data:\n",
    "        if \"'\" in d:\n",
    "            new_data.append(d.split(\"'\")[0].title() + \"'\" + d.split(\"'\")[1])\n",
    "        else:\n",
    "            new_data.append(d.title())\n",
    "    # need to join this data\n",
    "    txt = \" \".join(new_data)\n",
    "    return txt\n",
    "\n",
    "# short solution\n",
    "# def to_jaden_case(string):\n",
    "#     return \" \".join(word.capitalize() for word in string.split())\n",
    "\n",
    "to_jaden_case(\"How can mirrors be real if our eyes aren't real\")"
   ]
  },
  {
   "cell_type": "markdown",
   "metadata": {},
   "source": [
    "---"
   ]
  },
  {
   "cell_type": "markdown",
   "metadata": {},
   "source": [
    "#### Descending Order"
   ]
  },
  {
   "cell_type": "code",
   "execution_count": 29,
   "metadata": {},
   "outputs": [
    {
     "name": "stdout",
     "output_type": "stream",
     "text": [
      "94321\n"
     ]
    }
   ],
   "source": [
    "def decsending_num(num):\n",
    "    string = str(num)\n",
    "    data = []\n",
    "    for i in range(len(string)):\n",
    "        data.append(string[i])\n",
    "    data.sort(reverse=True)\n",
    "    \n",
    "    string = \"\"\n",
    "    for i in data:\n",
    "        string += i\n",
    "    return int(string)\n",
    "\n",
    "print(decsending_num(34129))"
   ]
  },
  {
   "cell_type": "markdown",
   "metadata": {},
   "source": [
    "---"
   ]
  },
  {
   "cell_type": "markdown",
   "metadata": {},
   "source": [
    "#### Projectile Motion (6 kyu)\n",
    "\n",
    "Link: https://www.codewars.com/kata/5af96cea3e9715ec670001dd"
   ]
  },
  {
   "cell_type": "code",
   "execution_count": 49,
   "metadata": {},
   "outputs": [
    {
     "name": "stdout",
     "output_type": "stream",
     "text": [
      "h(t) = -16.0t^2 + 1.414t + 5.0\n",
      "1.414t\n",
      "None\n",
      "0.283\n",
      "[0.856, 0, 0.605]\n"
     ]
    }
   ],
   "source": [
    "import math\n",
    "\n",
    "def round_off(x):\n",
    "    if type(x) == int:\n",
    "            x = round(float(x), 1)\n",
    "    elif type(x) == float:\n",
    "            x = round(x, 3)\n",
    "    return x\n",
    "\n",
    "def quad_eqn(a, b, c):\n",
    "    # only return the +ve soln \n",
    "    return (-b + math.sqrt(b**2 - 4*a*c))/(2*a)\n",
    "\n",
    "class Projectile:\n",
    "    def __init__(self, h_0, v_0, a) -> None:\n",
    "        self.h_0 = h_0\n",
    "        self.v_0 = v_0 # initial velocity\n",
    "        self.a = a # angle of projection 0 <= a <= 90 (degrees)\n",
    "        self.v_x = v_0 * math.cos(math.radians(a)) # getting the horizontal velocity\n",
    "        self.v_y = v_0 * math.sin(math.radians(a)) # getting the vertical velocity\n",
    "\n",
    "    # all distances in feet, time in seconds.\n",
    "    def height_eq(self):\n",
    "        \"\"\"Returns the heigth equation.\"\"\"\n",
    "        # y = u*sin(a)*t - g/2*t**2 + y_0, here g is 32\n",
    "        if self.h_0 == 0:\n",
    "            return f\"h(t) = -16.0t^2 + {round_off(self.v_y)}t\"\n",
    "        else:\n",
    "            return f\"h(t) = -16.0t^2 + {round_off(self.v_y)}t + {round_off(self.h_0)}\"\n",
    "    \n",
    "    def horiz_eq(self):\n",
    "        \"\"\"Returns the horizontal equation\"\"\"\n",
    "        # x = u*cos(a)*t\n",
    "        return f\"x(t) = {round_off(self.v_x)}t\"\n",
    "    \n",
    "    def height(self, t):\n",
    "        \"\"\"Returns the y-coordinate of the particle at time t\"\"\"\n",
    "        h = round_off(-16.0*(t**2) + self.v_y*t + self.h_0)\n",
    "        return h\n",
    "\n",
    "    def horiz(self, t):\n",
    "        \"\"\"Returns the x-coordinate of the particle at time t\"\"\"\n",
    "        x = round_off(self.v_x * t)\n",
    "        return x\n",
    "    \n",
    "    def landing(self):\n",
    "        \"\"\"Returns [x, y, T] => x-coordinate at landing i.e R, y-coordinate i.e 0, time of flight\"\"\"\n",
    "        # we gotta solve the quadratic in height_eqn\n",
    "        T = quad_eqn(16, -self.v_y, -self.h_0)\n",
    "        R = round_off(self.v_x * T)\n",
    "        H = 0\n",
    "\n",
    "        return [R, H, round_off(T)]\n",
    "\n",
    "projectile = Projectile(5, 2, 45)\n",
    "print(projectile.height_eq())\n",
    "print(projectile.horiz_eq())\n",
    "print(projectile.height(0.2))\n",
    "print(projectile.horiz(0.2))\n",
    "print(projectile.landing())\n"
   ]
  },
  {
   "cell_type": "markdown",
   "metadata": {},
   "source": [
    "---"
   ]
  },
  {
   "cell_type": "markdown",
   "metadata": {},
   "source": [
    "#### RGB to Hex Conversion (5 kyu)\n",
    "\n",
    "Link: https://www.codewars.com/kata/513e08acc600c94f01000001/\n",
    "\n",
    "**LOGIC**:\n",
    "\n",
    "Equations:\n",
    "\n",
    "$r = x_1 + y_1/16$\n",
    "\n",
    "$g = x_2 + y_2/16$\n",
    "\n",
    "$b = x_3 + y_3/16$\n",
    "\n",
    "x, y are quotient and remainder\n",
    "\n",
    "$x_1y_1$ gives the number for hex, we can use to iterate through our table.\n",
    "\n",
    "For more info: https://gristle.tripod.com/hexconv.html#:~:text=Given%20RGB%20values%2C%20where%20all,x%22%20%2B%20y%22%2F16"
   ]
  },
  {
   "cell_type": "code",
   "execution_count": 23,
   "metadata": {},
   "outputs": [
    {
     "name": "stdout",
     "output_type": "stream",
     "text": [
      "FFFFFF\n"
     ]
    }
   ],
   "source": [
    "def rgb(r, g, b):\n",
    "    \"\"\"Converts rgb to hex\"\"\"\n",
    "    # imposing the conditions according to the question\n",
    "    if r < 0: r = 0\n",
    "    if g < 0: g = 0\n",
    "    if b < 0: b = 0\n",
    "    if r > 255: r = 255\n",
    "    if g > 255: g = 255\n",
    "    if b > 255: b = 255\n",
    "\n",
    "    table = ['0', '1', '2', '3', '4', '5', '6', '7', '8', '9', 'A', 'B', 'C', 'D', 'E', 'F'] # making the table for conversion\n",
    "    \n",
    "    # getting the quotients and remainders\n",
    "    x_1 = r // 16\n",
    "    y_1 = r % 16\n",
    "    x_2 = g // 16\n",
    "    y_2 = g % 16\n",
    "    x_3 = b // 16\n",
    "    y_3 = b % 16\n",
    "    \n",
    "    return f\"{table[x_1]}{table[y_1]}{table[x_2]}{table[y_2]}{table[x_3]}{table[y_3]}\"\n",
    "\n",
    "print(rgb(255, 255, 255))"
   ]
  },
  {
   "cell_type": "markdown",
   "metadata": {},
   "source": [
    "---"
   ]
  },
  {
   "cell_type": "markdown",
   "metadata": {},
   "source": [
    "#### Hashtag genrator (5 kyu)\n",
    "\n",
    "Link: https://www.codewars.com/kata/52449b062fb80683ec000024\n",
    "\n"
   ]
  },
  {
   "cell_type": "code",
   "execution_count": 21,
   "metadata": {},
   "outputs": [
    {
     "name": "stdout",
     "output_type": "stream",
     "text": [
      "#HelloThereThanksForTryingMyKata\n"
     ]
    }
   ],
   "source": [
    "def generate_hashtag(s):\n",
    "    if not s:\n",
    "        return False\n",
    "    data = s.title().split()\n",
    "    txt = \"#\" + \"\".join(data)\n",
    "    if len(txt) > 140:\n",
    "        return False\n",
    "    return txt\n",
    "\n",
    "print(generate_hashtag(\" Hello there thanks for trying my Kata\"))"
   ]
  },
  {
   "cell_type": "markdown",
   "metadata": {},
   "source": [
    "#### Convert a hex string to RGB (5 kyu)\n",
    "\n",
    "Link: https://www.codewars.com/kata/5282b48bb70058e4c4000fa7/\n",
    "\n",
    "**LOGIC:**\n",
    "\n",
    "Well we just reversed the logic of rgb to hex from the previous problem"
   ]
  },
  {
   "cell_type": "code",
   "execution_count": 31,
   "metadata": {},
   "outputs": [
    {
     "name": "stdout",
     "output_type": "stream",
     "text": [
      "{'r': 255, 'g': 153, 'b': 51}\n"
     ]
    }
   ],
   "source": [
    "def hex_string_to_rgb(hex_string):\n",
    "    \"\"\"Converts hex string to rgb dictionary\"\"\"\n",
    "    string = hex_string[1:].upper()\n",
    "    \n",
    "    # getting values for r g b\n",
    "    r0_code = string[0]\n",
    "    r1_code = string[1]\n",
    "    g0_code = string[2]\n",
    "    g1_code = string[3]\n",
    "    b0_code = string[4]\n",
    "    b1_code = string[5]\n",
    "\n",
    "    data = ['0', '1', '2', '3', '4', '5', '6', '7', '8', '9', 'A', 'B', 'C', 'D', 'E', 'F']\n",
    "    \n",
    "    # finding the index\n",
    "    x_1 = data.index(r0_code)\n",
    "    y_1 = data.index(r1_code)\n",
    "    x_2 = data.index(g0_code)\n",
    "    y_2 = data.index(g1_code)\n",
    "    x_3 = data.index(b0_code)\n",
    "    y_3 = data.index(b1_code)\n",
    "    \n",
    "    # reversing the logic of the rgb to hex problem\n",
    "    r_code = 16*x_1 + y_1\n",
    "    g_code = 16*x_2 + y_2\n",
    "    b_code = 16*x_3 + y_3\n",
    "\n",
    "    return {'r': r_code, 'g': g_code, 'b': b_code} # returning according to the format of the question\n",
    "\n",
    "print(hex_string_to_rgb(\"#FF9933\"))"
   ]
  },
  {
   "cell_type": "markdown",
   "metadata": {},
   "source": [
    "---"
   ]
  }
 ],
 "metadata": {
  "kernelspec": {
   "display_name": "Python 3",
   "language": "python",
   "name": "python3"
  },
  "language_info": {
   "codemirror_mode": {
    "name": "ipython",
    "version": 3
   },
   "file_extension": ".py",
   "mimetype": "text/x-python",
   "name": "python",
   "nbconvert_exporter": "python",
   "pygments_lexer": "ipython3",
   "version": "3.11.7"
  }
 },
 "nbformat": 4,
 "nbformat_minor": 2
}
