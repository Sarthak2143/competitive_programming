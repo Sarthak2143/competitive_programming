{
 "cells": [
  {
   "cell_type": "markdown",
   "metadata": {},
   "source": [
    "# Codewars"
   ]
  },
  {
   "cell_type": "markdown",
   "metadata": {},
   "source": [
    "Here I will add my solutions to codewars problem with some optional logic/math."
   ]
  },
  {
   "cell_type": "markdown",
   "metadata": {},
   "source": [
    "#### Disemvowel Trolls (7 kyu)\n",
    "Trolls are attacking your comment section!\n",
    "\n",
    "A common way to deal with this situation is to remove all of the vowels from the trolls' comments, neutralizing the threat.\n",
    "\n",
    "Your task is to write a function that takes a string and return a new string with all vowels removed.\n",
    "\n",
    "For example, the string \"This website is for losers LOL!\" would become \"Ths wbst s fr lsrs LL!\".\n",
    "\n",
    "Note: for this kata `y` isn't considered a vowel.\n",
    "\n",
    "Link: https://www.codewars.com/kata/52fba66badcd10859f00097e"
   ]
  },
  {
   "cell_type": "code",
   "execution_count": 1,
   "metadata": {},
   "outputs": [
    {
     "name": "stdout",
     "output_type": "stream",
     "text": [
      "N ffns bt,\n",
      "Yr wrtng s mng th wrst 'v vr rd\n"
     ]
    }
   ],
   "source": [
    "def disemvowel(string_):\n",
    "    vowels = [\"a\", \"e\", \"i\", \"o\", \"u\", \"A\", \"E\", \"I\", \"O\", \"U\"]\n",
    "    new_string = \"\"\n",
    "    for letter_num in range(len(string_)):\n",
    "        if string_[letter_num] not in vowels:\n",
    "            new_string += string_[letter_num]\n",
    "    return new_string\n",
    "\n",
    "print(disemvowel(\"No offense but,\\nYour writing is among the worst I've ever read\"))"
   ]
  },
  {
   "cell_type": "markdown",
   "metadata": {},
   "source": [
    "---"
   ]
  },
  {
   "cell_type": "markdown",
   "metadata": {},
   "source": [
    "#### Factorial length (6 kyu)\n",
    "\n",
    "In this Kata, you will implement a function `count` that takes an integer and returns the number of digits in `factorial(n)`.\n",
    "\n",
    "For example, `count(5) = 3`, because `5! = 120`, and `120` has `3` digits.\n",
    "\n",
    "More examples in the test cases.\n",
    "\n",
    "Brute force is not possible. A little research will go a long way, as this is a well known series.\n",
    "\n",
    "Good luck!\n",
    "\n",
    "Link: https://www.codewars.com/kata/59f34ec5a01431ab7600005a"
   ]
  },
  {
   "cell_type": "code",
   "execution_count": 3,
   "metadata": {},
   "outputs": [
    {
     "name": "stdout",
     "output_type": "stream",
     "text": [
      "363233781\n"
     ]
    }
   ],
   "source": [
    "import math\n",
    "\n",
    "def count(n):\n",
    "    # source: https://oeis.org/A034886\n",
    "    return math.ceil(math.log10(2*math.pi*n)/2 + n*(math.log10(n/math.e)))\n",
    "\n",
    "print(count(50_000_000))"
   ]
  },
  {
   "cell_type": "markdown",
   "metadata": {},
   "source": [
    "---"
   ]
  },
  {
   "cell_type": "markdown",
   "metadata": {},
   "source": [
    "#### Jaden Case Strings\n",
    "\n",
    "Jaden Smith, the son of Will Smith, is the star of films such as The Karate Kid (2010) and After Earth (2013). Jaden is also known for some of his philosophy that he delivers via Twitter. When writing on Twitter, he is known for almost always capitalizing every word. For simplicity, you'll have to capitalize each word, check out how contractions are expected to be in the example below.\n",
    "\n",
    "Your task is to convert strings to how they would be written by Jaden Smith. The strings are actual quotes from Jaden Smith, but they are not capitalized in the same way he originally typed them.\n",
    "\n",
    "```md\n",
    "Not Jaden-Cased: \"How can mirrors be real if our eyes aren't real\"\n",
    "Jaden-Cased:     \"How Can Mirrors Be Real If Our Eyes Aren't Real\n",
    "```\n",
    "\n",
    "Link: https://www.codewars.com/kata/5390bac347d09b7da40006f6"
   ]
  },
  {
   "cell_type": "code",
   "execution_count": 15,
   "metadata": {},
   "outputs": [
    {
     "data": {
      "text/plain": [
       "\"How Can Mirrors Be Real If Our Eyes Aren't Real\""
      ]
     },
     "execution_count": 15,
     "metadata": {},
     "output_type": "execute_result"
    }
   ],
   "source": [
    "def to_jaden_case(string):\n",
    "    data = string.split(\" \")\n",
    "    new_data = []\n",
    "    for d in data:\n",
    "        if \"'\" in d:\n",
    "            new_data.append(d.split(\"'\")[0].title() + \"'\" + d.split(\"'\")[1])\n",
    "        else:\n",
    "            new_data.append(d.title())\n",
    "    # need to join this data\n",
    "    txt = \" \".join(new_data)\n",
    "    return txt\n",
    "\n",
    "# short solution\n",
    "# def to_jaden_case(string):\n",
    "#     return \" \".join(word.capitalize() for word in string.split())\n",
    "\n",
    "to_jaden_case(\"How can mirrors be real if our eyes aren't real\")"
   ]
  },
  {
   "cell_type": "markdown",
   "metadata": {},
   "source": [
    "---"
   ]
  }
 ],
 "metadata": {
  "kernelspec": {
   "display_name": "Python 3",
   "language": "python",
   "name": "python3"
  },
  "language_info": {
   "codemirror_mode": {
    "name": "ipython",
    "version": 3
   },
   "file_extension": ".py",
   "mimetype": "text/x-python",
   "name": "python",
   "nbconvert_exporter": "python",
   "pygments_lexer": "ipython3",
   "version": "3.11.7"
  }
 },
 "nbformat": 4,
 "nbformat_minor": 2
}
